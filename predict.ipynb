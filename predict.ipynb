{
 "cells": [
  {
   "cell_type": "code",
   "execution_count": 1,
   "metadata": {
    "execution": {
     "iopub.execute_input": "2022-07-05T15:18:47.817870Z",
     "iopub.status.busy": "2022-07-05T15:18:47.817273Z",
     "iopub.status.idle": "2022-07-05T15:18:47.839669Z",
     "shell.execute_reply": "2022-07-05T15:18:47.838986Z"
    }
   },
   "outputs": [],
   "source": [
    "%load_ext autoreload\n",
    "%autoreload 2"
   ]
  },
  {
   "cell_type": "code",
   "execution_count": 2,
   "metadata": {
    "execution": {
     "iopub.execute_input": "2022-07-05T15:18:47.852287Z",
     "iopub.status.busy": "2022-07-05T15:18:47.851921Z",
     "iopub.status.idle": "2022-07-05T15:18:48.034675Z",
     "shell.execute_reply": "2022-07-05T15:18:48.034084Z"
    }
   },
   "outputs": [],
   "source": [
    "import orchest\n",
    "import os\n",
    "import pickle"
   ]
  },
  {
   "cell_type": "code",
   "execution_count": 3,
   "metadata": {
    "execution": {
     "iopub.execute_input": "2022-07-05T15:18:48.066874Z",
     "iopub.status.busy": "2022-07-05T15:18:48.066623Z",
     "iopub.status.idle": "2022-07-05T15:18:48.488117Z",
     "shell.execute_reply": "2022-07-05T15:18:48.487377Z"
    }
   },
   "outputs": [],
   "source": [
    "from utils import compute_event_df"
   ]
  },
  {
   "cell_type": "markdown",
   "metadata": {},
   "source": [
    "### Get stored model"
   ]
  },
  {
   "cell_type": "code",
   "execution_count": 4,
   "metadata": {
    "execution": {
     "iopub.execute_input": "2022-07-05T15:18:48.510295Z",
     "iopub.status.busy": "2022-07-05T15:18:48.510080Z",
     "iopub.status.idle": "2022-07-05T15:18:48.527195Z",
     "shell.execute_reply": "2022-07-05T15:18:48.525919Z"
    }
   },
   "outputs": [],
   "source": [
    "model_storage_location = os.environ.get(\"KMEANS_MODEL_LOC\", \"/data/ecom-kmeans-model.pickle\")"
   ]
  },
  {
   "cell_type": "code",
   "execution_count": 5,
   "metadata": {
    "execution": {
     "iopub.execute_input": "2022-07-05T15:18:48.539711Z",
     "iopub.status.busy": "2022-07-05T15:18:48.539502Z",
     "iopub.status.idle": "2022-07-05T15:18:48.993375Z",
     "shell.execute_reply": "2022-07-05T15:18:48.992584Z"
    }
   },
   "outputs": [],
   "source": [
    "# Verify storage worked\n",
    "with open(model_storage_location, \"rb\") as f:\n",
    "    stored_model = pickle.load(f)"
   ]
  },
  {
   "cell_type": "code",
   "execution_count": 6,
   "metadata": {
    "execution": {
     "iopub.execute_input": "2022-07-05T15:18:49.011696Z",
     "iopub.status.busy": "2022-07-05T15:18:49.011241Z",
     "iopub.status.idle": "2022-07-05T15:18:49.037647Z",
     "shell.execute_reply": "2022-07-05T15:18:49.037019Z"
    }
   },
   "outputs": [],
   "source": [
    "kmeans = stored_model[\"model\"]"
   ]
  },
  {
   "cell_type": "code",
   "execution_count": 7,
   "metadata": {
    "execution": {
     "iopub.execute_input": "2022-07-05T15:18:49.050378Z",
     "iopub.status.busy": "2022-07-05T15:18:49.050088Z",
     "iopub.status.idle": "2022-07-05T15:18:49.072978Z",
     "shell.execute_reply": "2022-07-05T15:18:49.072284Z"
    }
   },
   "outputs": [],
   "source": [
    "high_seller_label = stored_model['high_seller_label']\n",
    "low_seller_label = stored_model['low_seller_label']"
   ]
  },
  {
   "cell_type": "code",
   "execution_count": 8,
   "metadata": {
    "execution": {
     "iopub.execute_input": "2022-07-05T15:18:49.089060Z",
     "iopub.status.busy": "2022-07-05T15:18:49.088805Z",
     "iopub.status.idle": "2022-07-05T15:18:49.119597Z",
     "shell.execute_reply": "2022-07-05T15:18:49.119052Z"
    }
   },
   "outputs": [
    {
     "data": {
      "text/plain": [
       "(1, 0)"
      ]
     },
     "execution_count": 8,
     "metadata": {},
     "output_type": "execute_result"
    }
   ],
   "source": [
    "(high_seller_label, low_seller_label)"
   ]
  },
  {
   "cell_type": "markdown",
   "metadata": {},
   "source": [
    "### Load data to predict on"
   ]
  },
  {
   "cell_type": "markdown",
   "metadata": {},
   "source": [
    "Note, the data loaded here in the example project is the same as the train data"
   ]
  },
  {
   "cell_type": "code",
   "execution_count": 9,
   "metadata": {
    "execution": {
     "iopub.execute_input": "2022-07-05T15:18:49.157081Z",
     "iopub.status.busy": "2022-07-05T15:18:49.156818Z",
     "iopub.status.idle": "2022-07-05T15:18:49.207781Z",
     "shell.execute_reply": "2022-07-05T15:18:49.207073Z"
    }
   },
   "outputs": [],
   "source": [
    "events_df = orchest.get_inputs()['product_data']['events']"
   ]
  },
  {
   "cell_type": "code",
   "execution_count": 10,
   "metadata": {
    "execution": {
     "iopub.execute_input": "2022-07-05T15:18:49.223274Z",
     "iopub.status.busy": "2022-07-05T15:18:49.222949Z",
     "iopub.status.idle": "2022-07-05T15:18:49.257146Z",
     "shell.execute_reply": "2022-07-05T15:18:49.256501Z"
    }
   },
   "outputs": [],
   "source": [
    "feature_df = compute_event_df(events_df)"
   ]
  },
  {
   "cell_type": "code",
   "execution_count": 11,
   "metadata": {
    "execution": {
     "iopub.execute_input": "2022-07-05T15:18:49.270084Z",
     "iopub.status.busy": "2022-07-05T15:18:49.269875Z",
     "iopub.status.idle": "2022-07-05T15:18:49.330191Z",
     "shell.execute_reply": "2022-07-05T15:18:49.329557Z"
    }
   },
   "outputs": [
    {
     "data": {
      "text/plain": [
       "array([1, 1, 1, 1, 0, 0, 0, 0, 0, 0], dtype=int32)"
      ]
     },
     "execution_count": 11,
     "metadata": {},
     "output_type": "execute_result"
    }
   ],
   "source": [
    "predictions = kmeans.predict(feature_df.values); predictions"
   ]
  },
  {
   "cell_type": "code",
   "execution_count": 12,
   "metadata": {
    "execution": {
     "iopub.execute_input": "2022-07-05T15:18:49.366629Z",
     "iopub.status.busy": "2022-07-05T15:18:49.366091Z",
     "iopub.status.idle": "2022-07-05T15:18:49.399328Z",
     "shell.execute_reply": "2022-07-05T15:18:49.398630Z"
    }
   },
   "outputs": [],
   "source": [
    "joined_predictions = list(zip(feature_df.index, predictions))"
   ]
  },
  {
   "cell_type": "code",
   "execution_count": 13,
   "metadata": {
    "execution": {
     "iopub.execute_input": "2022-07-05T15:18:49.415551Z",
     "iopub.status.busy": "2022-07-05T15:18:49.415326Z",
     "iopub.status.idle": "2022-07-05T15:18:49.454694Z",
     "shell.execute_reply": "2022-07-05T15:18:49.454049Z"
    }
   },
   "outputs": [],
   "source": [
    "readable_predictions = list(map(lambda x: (x[0], \"High seller\" if high_seller_label == x[1] else \"Low seller\"), joined_predictions))"
   ]
  },
  {
   "cell_type": "code",
   "execution_count": 14,
   "metadata": {
    "execution": {
     "iopub.execute_input": "2022-07-05T15:18:49.468335Z",
     "iopub.status.busy": "2022-07-05T15:18:49.468018Z",
     "iopub.status.idle": "2022-07-05T15:18:49.502680Z",
     "shell.execute_reply": "2022-07-05T15:18:49.502117Z"
    }
   },
   "outputs": [
    {
     "data": {
      "text/plain": [
       "[('Product G', 'High seller'),\n",
       " ('Product B', 'High seller'),\n",
       " ('Product C', 'High seller'),\n",
       " ('Product J', 'High seller'),\n",
       " ('Product A', 'Low seller'),\n",
       " ('Product F', 'Low seller'),\n",
       " ('Product I', 'Low seller'),\n",
       " ('Product D', 'Low seller'),\n",
       " ('Product E', 'Low seller'),\n",
       " ('Product H', 'Low seller')]"
      ]
     },
     "execution_count": 14,
     "metadata": {},
     "output_type": "execute_result"
    }
   ],
   "source": [
    "readable_predictions"
   ]
  }
 ],
 "metadata": {
  "kernelspec": {
   "display_name": "Python 3",
   "language": "python",
   "name": "orchest-kernel-085b9595-234b-4e55-9637-5217b5e5e5b0"
  },
  "language_info": {
   "codemirror_mode": {
    "name": "ipython",
    "version": 3
   },
   "file_extension": ".py",
   "mimetype": "text/x-python",
   "name": "python",
   "nbconvert_exporter": "python",
   "pygments_lexer": "ipython3",
   "version": "3.9.10"
  }
 },
 "nbformat": 4,
 "nbformat_minor": 4
}
