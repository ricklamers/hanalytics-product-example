{
 "cells": [
  {
   "cell_type": "code",
   "execution_count": 1,
   "metadata": {
    "execution": {
     "iopub.execute_input": "2022-07-05T15:18:12.750084Z",
     "iopub.status.busy": "2022-07-05T15:18:12.749391Z",
     "iopub.status.idle": "2022-07-05T15:18:13.943848Z",
     "shell.execute_reply": "2022-07-05T15:18:13.943234Z"
    }
   },
   "outputs": [],
   "source": [
    "from sklearn.cluster import KMeans\n",
    "\n",
    "import numpy as np\n",
    "import orchest\n",
    "import pandas as pd\n",
    "import pickle\n",
    "import os\n",
    "\n",
    "from utils import compute_event_df"
   ]
  },
  {
   "cell_type": "markdown",
   "metadata": {},
   "source": [
    "### Construct summary dataframe\n",
    "\n",
    "From event data"
   ]
  },
  {
   "cell_type": "code",
   "execution_count": 2,
   "metadata": {
    "execution": {
     "iopub.execute_input": "2022-07-05T15:18:13.989355Z",
     "iopub.status.busy": "2022-07-05T15:18:13.988057Z",
     "iopub.status.idle": "2022-07-05T15:18:14.040623Z",
     "shell.execute_reply": "2022-07-05T15:18:14.037073Z"
    },
    "tags": []
   },
   "outputs": [],
   "source": [
    "product_data = orchest.get_inputs()['product_data']\n",
    "\n",
    "events_df = product_data['events']"
   ]
  },
  {
   "cell_type": "code",
   "execution_count": 3,
   "metadata": {
    "execution": {
     "iopub.execute_input": "2022-07-05T15:18:14.053197Z",
     "iopub.status.busy": "2022-07-05T15:18:14.052774Z",
     "iopub.status.idle": "2022-07-05T15:18:14.082050Z",
     "shell.execute_reply": "2022-07-05T15:18:14.081491Z"
    }
   },
   "outputs": [
    {
     "data": {
      "text/html": [
       "<div>\n",
       "<style scoped>\n",
       "    .dataframe tbody tr th:only-of-type {\n",
       "        vertical-align: middle;\n",
       "    }\n",
       "\n",
       "    .dataframe tbody tr th {\n",
       "        vertical-align: top;\n",
       "    }\n",
       "\n",
       "    .dataframe thead th {\n",
       "        text-align: right;\n",
       "    }\n",
       "</style>\n",
       "<table border=\"1\" class=\"dataframe\">\n",
       "  <thead>\n",
       "    <tr style=\"text-align: right;\">\n",
       "      <th></th>\n",
       "      <th>product</th>\n",
       "      <th>date</th>\n",
       "      <th>action</th>\n",
       "    </tr>\n",
       "  </thead>\n",
       "  <tbody>\n",
       "    <tr>\n",
       "      <th>0</th>\n",
       "      <td>Product A</td>\n",
       "      <td>2021-03-30 23:23:46</td>\n",
       "      <td>buy</td>\n",
       "    </tr>\n",
       "    <tr>\n",
       "      <th>1</th>\n",
       "      <td>Product J</td>\n",
       "      <td>2021-04-01 02:34:59</td>\n",
       "      <td>buy</td>\n",
       "    </tr>\n",
       "    <tr>\n",
       "      <th>2</th>\n",
       "      <td>Product E</td>\n",
       "      <td>2020-01-22 18:39:14</td>\n",
       "      <td>buy</td>\n",
       "    </tr>\n",
       "    <tr>\n",
       "      <th>3</th>\n",
       "      <td>Product A</td>\n",
       "      <td>2020-02-14 00:31:33</td>\n",
       "      <td>buy</td>\n",
       "    </tr>\n",
       "    <tr>\n",
       "      <th>4</th>\n",
       "      <td>Product E</td>\n",
       "      <td>2021-08-11 00:30:40</td>\n",
       "      <td>buy</td>\n",
       "    </tr>\n",
       "    <tr>\n",
       "      <th>...</th>\n",
       "      <td>...</td>\n",
       "      <td>...</td>\n",
       "      <td>...</td>\n",
       "    </tr>\n",
       "    <tr>\n",
       "      <th>11995</th>\n",
       "      <td>Product F</td>\n",
       "      <td>2020-10-23 07:35:50</td>\n",
       "      <td>view</td>\n",
       "    </tr>\n",
       "    <tr>\n",
       "      <th>11996</th>\n",
       "      <td>Product J</td>\n",
       "      <td>2021-11-08 14:52:12</td>\n",
       "      <td>view</td>\n",
       "    </tr>\n",
       "    <tr>\n",
       "      <th>11997</th>\n",
       "      <td>Product D</td>\n",
       "      <td>2020-02-13 17:42:02</td>\n",
       "      <td>view</td>\n",
       "    </tr>\n",
       "    <tr>\n",
       "      <th>11998</th>\n",
       "      <td>Product C</td>\n",
       "      <td>2021-07-01 07:51:21</td>\n",
       "      <td>view</td>\n",
       "    </tr>\n",
       "    <tr>\n",
       "      <th>11999</th>\n",
       "      <td>Product B</td>\n",
       "      <td>2021-07-15 23:19:29</td>\n",
       "      <td>view</td>\n",
       "    </tr>\n",
       "  </tbody>\n",
       "</table>\n",
       "<p>12000 rows × 3 columns</p>\n",
       "</div>"
      ],
      "text/plain": [
       "         product                date action\n",
       "0      Product A 2021-03-30 23:23:46    buy\n",
       "1      Product J 2021-04-01 02:34:59    buy\n",
       "2      Product E 2020-01-22 18:39:14    buy\n",
       "3      Product A 2020-02-14 00:31:33    buy\n",
       "4      Product E 2021-08-11 00:30:40    buy\n",
       "...          ...                 ...    ...\n",
       "11995  Product F 2020-10-23 07:35:50   view\n",
       "11996  Product J 2021-11-08 14:52:12   view\n",
       "11997  Product D 2020-02-13 17:42:02   view\n",
       "11998  Product C 2021-07-01 07:51:21   view\n",
       "11999  Product B 2021-07-15 23:19:29   view\n",
       "\n",
       "[12000 rows x 3 columns]"
      ]
     },
     "execution_count": 3,
     "metadata": {},
     "output_type": "execute_result"
    }
   ],
   "source": [
    "events_df"
   ]
  },
  {
   "cell_type": "code",
   "execution_count": 4,
   "metadata": {
    "execution": {
     "iopub.execute_input": "2022-07-05T15:18:14.097146Z",
     "iopub.status.busy": "2022-07-05T15:18:14.096919Z",
     "iopub.status.idle": "2022-07-05T15:18:14.113461Z",
     "shell.execute_reply": "2022-07-05T15:18:14.112887Z"
    }
   },
   "outputs": [],
   "source": [
    "df = compute_event_df(events_df)"
   ]
  },
  {
   "cell_type": "markdown",
   "metadata": {},
   "source": [
    "### Construct model"
   ]
  },
  {
   "cell_type": "code",
   "execution_count": 5,
   "metadata": {
    "execution": {
     "iopub.execute_input": "2022-07-05T15:18:14.134309Z",
     "iopub.status.busy": "2022-07-05T15:18:14.134095Z",
     "iopub.status.idle": "2022-07-05T15:18:14.137878Z",
     "shell.execute_reply": "2022-07-05T15:18:14.137152Z"
    }
   },
   "outputs": [],
   "source": [
    "X = df.values"
   ]
  },
  {
   "cell_type": "code",
   "execution_count": 6,
   "metadata": {
    "execution": {
     "iopub.execute_input": "2022-07-05T15:18:14.150136Z",
     "iopub.status.busy": "2022-07-05T15:18:14.149671Z",
     "iopub.status.idle": "2022-07-05T15:18:14.187907Z",
     "shell.execute_reply": "2022-07-05T15:18:14.187290Z"
    }
   },
   "outputs": [],
   "source": [
    "kmeans = KMeans(n_clusters=2, random_state=0).fit(X)"
   ]
  },
  {
   "cell_type": "code",
   "execution_count": 7,
   "metadata": {
    "execution": {
     "iopub.execute_input": "2022-07-05T15:18:14.199998Z",
     "iopub.status.busy": "2022-07-05T15:18:14.199609Z",
     "iopub.status.idle": "2022-07-05T15:18:14.206119Z",
     "shell.execute_reply": "2022-07-05T15:18:14.205563Z"
    }
   },
   "outputs": [
    {
     "data": {
      "text/plain": [
       "array([1, 1, 1, 1, 1, 1, 0, 0, 0, 0], dtype=int32)"
      ]
     },
     "execution_count": 7,
     "metadata": {},
     "output_type": "execute_result"
    }
   ],
   "source": [
    "kmeans.labels_"
   ]
  },
  {
   "cell_type": "code",
   "execution_count": 8,
   "metadata": {
    "execution": {
     "iopub.execute_input": "2022-07-05T15:18:14.220178Z",
     "iopub.status.busy": "2022-07-05T15:18:14.219965Z",
     "iopub.status.idle": "2022-07-05T15:18:14.280226Z",
     "shell.execute_reply": "2022-07-05T15:18:14.279348Z"
    }
   },
   "outputs": [],
   "source": [
    "# Choose known attractive product\n",
    "high_seller_label = kmeans.predict([df.iloc[0].values])[0]"
   ]
  },
  {
   "cell_type": "code",
   "execution_count": 9,
   "metadata": {
    "execution": {
     "iopub.execute_input": "2022-07-05T15:18:14.295239Z",
     "iopub.status.busy": "2022-07-05T15:18:14.294780Z",
     "iopub.status.idle": "2022-07-05T15:18:14.301335Z",
     "shell.execute_reply": "2022-07-05T15:18:14.300774Z"
    }
   },
   "outputs": [],
   "source": [
    "low_seller_label = np.abs(high_seller_label - 1)"
   ]
  },
  {
   "cell_type": "markdown",
   "metadata": {},
   "source": [
    "### Store model"
   ]
  },
  {
   "cell_type": "code",
   "execution_count": 10,
   "metadata": {
    "execution": {
     "iopub.execute_input": "2022-07-05T15:18:14.356275Z",
     "iopub.status.busy": "2022-07-05T15:18:14.356022Z",
     "iopub.status.idle": "2022-07-05T15:18:14.359496Z",
     "shell.execute_reply": "2022-07-05T15:18:14.358909Z"
    }
   },
   "outputs": [],
   "source": [
    "model_storage_location = os.environ.get(\"KMEANS_MODEL_LOC\", \"/data/ecom-kmeans-model.pickle\")"
   ]
  },
  {
   "cell_type": "code",
   "execution_count": 11,
   "metadata": {
    "execution": {
     "iopub.execute_input": "2022-07-05T15:18:14.386374Z",
     "iopub.status.busy": "2022-07-05T15:18:14.386155Z",
     "iopub.status.idle": "2022-07-05T15:18:14.390131Z",
     "shell.execute_reply": "2022-07-05T15:18:14.389601Z"
    }
   },
   "outputs": [],
   "source": [
    "with open(model_storage_location, \"wb\") as f:\n",
    "    pickle.dump({\"model\": kmeans, \n",
    "                 \"high_seller_label\": high_seller_label, \n",
    "                 \"low_seller_label\": low_seller_label}, f)"
   ]
  },
  {
   "cell_type": "code",
   "execution_count": 12,
   "metadata": {
    "execution": {
     "iopub.execute_input": "2022-07-05T15:18:14.415536Z",
     "iopub.status.busy": "2022-07-05T15:18:14.415296Z",
     "iopub.status.idle": "2022-07-05T15:18:14.419295Z",
     "shell.execute_reply": "2022-07-05T15:18:14.418736Z"
    }
   },
   "outputs": [],
   "source": [
    "# Verify storage worked\n",
    "with open(model_storage_location, \"rb\") as f:\n",
    "    model = pickle.load(f)[\"model\"]\n",
    "\n",
    "assert all((kmeans.cluster_centers_ == model.cluster_centers_).tolist())"
   ]
  }
 ],
 "metadata": {
  "kernelspec": {
   "display_name": "Python 3",
   "language": "python",
   "name": "orchest-kernel-085b9595-234b-4e55-9637-5217b5e5e5b0"
  },
  "language_info": {
   "codemirror_mode": {
    "name": "ipython",
    "version": 3
   },
   "file_extension": ".py",
   "mimetype": "text/x-python",
   "name": "python",
   "nbconvert_exporter": "python",
   "pygments_lexer": "ipython3",
   "version": "3.9.10"
  }
 },
 "nbformat": 4,
 "nbformat_minor": 4
}
