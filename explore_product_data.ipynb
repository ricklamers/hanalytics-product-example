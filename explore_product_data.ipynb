{
 "cells": [
  {
   "cell_type": "code",
   "execution_count": 1,
   "metadata": {
    "execution": {
     "iopub.execute_input": "2022-07-05T15:18:12.941152Z",
     "iopub.status.busy": "2022-07-05T15:18:12.940864Z",
     "iopub.status.idle": "2022-07-05T15:18:13.159718Z",
     "shell.execute_reply": "2022-07-05T15:18:13.159101Z"
    }
   },
   "outputs": [],
   "source": [
    "import orchest"
   ]
  },
  {
   "cell_type": "code",
   "execution_count": 2,
   "metadata": {
    "execution": {
     "iopub.execute_input": "2022-07-05T15:18:13.168679Z",
     "iopub.status.busy": "2022-07-05T15:18:13.168263Z",
     "iopub.status.idle": "2022-07-05T15:18:13.827033Z",
     "shell.execute_reply": "2022-07-05T15:18:13.821877Z"
    }
   },
   "outputs": [],
   "source": [
    "product_data = orchest.get_inputs()['product_data']\n",
    "\n",
    "events_df = product_data['events']"
   ]
  },
  {
   "cell_type": "code",
   "execution_count": 3,
   "metadata": {
    "execution": {
     "iopub.execute_input": "2022-07-05T15:18:13.843094Z",
     "iopub.status.busy": "2022-07-05T15:18:13.842445Z",
     "iopub.status.idle": "2022-07-05T15:18:13.867635Z",
     "shell.execute_reply": "2022-07-05T15:18:13.867095Z"
    }
   },
   "outputs": [
    {
     "data": {
      "text/html": [
       "<div>\n",
       "<style scoped>\n",
       "    .dataframe tbody tr th:only-of-type {\n",
       "        vertical-align: middle;\n",
       "    }\n",
       "\n",
       "    .dataframe tbody tr th {\n",
       "        vertical-align: top;\n",
       "    }\n",
       "\n",
       "    .dataframe thead th {\n",
       "        text-align: right;\n",
       "    }\n",
       "</style>\n",
       "<table border=\"1\" class=\"dataframe\">\n",
       "  <thead>\n",
       "    <tr style=\"text-align: right;\">\n",
       "      <th></th>\n",
       "      <th>product</th>\n",
       "      <th>date</th>\n",
       "      <th>action</th>\n",
       "    </tr>\n",
       "  </thead>\n",
       "  <tbody>\n",
       "    <tr>\n",
       "      <th>0</th>\n",
       "      <td>Product A</td>\n",
       "      <td>2021-03-30 23:23:46</td>\n",
       "      <td>buy</td>\n",
       "    </tr>\n",
       "    <tr>\n",
       "      <th>1</th>\n",
       "      <td>Product J</td>\n",
       "      <td>2021-04-01 02:34:59</td>\n",
       "      <td>buy</td>\n",
       "    </tr>\n",
       "    <tr>\n",
       "      <th>2</th>\n",
       "      <td>Product E</td>\n",
       "      <td>2020-01-22 18:39:14</td>\n",
       "      <td>buy</td>\n",
       "    </tr>\n",
       "    <tr>\n",
       "      <th>3</th>\n",
       "      <td>Product A</td>\n",
       "      <td>2020-02-14 00:31:33</td>\n",
       "      <td>buy</td>\n",
       "    </tr>\n",
       "    <tr>\n",
       "      <th>4</th>\n",
       "      <td>Product E</td>\n",
       "      <td>2021-08-11 00:30:40</td>\n",
       "      <td>buy</td>\n",
       "    </tr>\n",
       "    <tr>\n",
       "      <th>...</th>\n",
       "      <td>...</td>\n",
       "      <td>...</td>\n",
       "      <td>...</td>\n",
       "    </tr>\n",
       "    <tr>\n",
       "      <th>11995</th>\n",
       "      <td>Product F</td>\n",
       "      <td>2020-10-23 07:35:50</td>\n",
       "      <td>view</td>\n",
       "    </tr>\n",
       "    <tr>\n",
       "      <th>11996</th>\n",
       "      <td>Product J</td>\n",
       "      <td>2021-11-08 14:52:12</td>\n",
       "      <td>view</td>\n",
       "    </tr>\n",
       "    <tr>\n",
       "      <th>11997</th>\n",
       "      <td>Product D</td>\n",
       "      <td>2020-02-13 17:42:02</td>\n",
       "      <td>view</td>\n",
       "    </tr>\n",
       "    <tr>\n",
       "      <th>11998</th>\n",
       "      <td>Product C</td>\n",
       "      <td>2021-07-01 07:51:21</td>\n",
       "      <td>view</td>\n",
       "    </tr>\n",
       "    <tr>\n",
       "      <th>11999</th>\n",
       "      <td>Product B</td>\n",
       "      <td>2021-07-15 23:19:29</td>\n",
       "      <td>view</td>\n",
       "    </tr>\n",
       "  </tbody>\n",
       "</table>\n",
       "<p>12000 rows × 3 columns</p>\n",
       "</div>"
      ],
      "text/plain": [
       "         product                date action\n",
       "0      Product A 2021-03-30 23:23:46    buy\n",
       "1      Product J 2021-04-01 02:34:59    buy\n",
       "2      Product E 2020-01-22 18:39:14    buy\n",
       "3      Product A 2020-02-14 00:31:33    buy\n",
       "4      Product E 2021-08-11 00:30:40    buy\n",
       "...          ...                 ...    ...\n",
       "11995  Product F 2020-10-23 07:35:50   view\n",
       "11996  Product J 2021-11-08 14:52:12   view\n",
       "11997  Product D 2020-02-13 17:42:02   view\n",
       "11998  Product C 2021-07-01 07:51:21   view\n",
       "11999  Product B 2021-07-15 23:19:29   view\n",
       "\n",
       "[12000 rows x 3 columns]"
      ]
     },
     "execution_count": 3,
     "metadata": {},
     "output_type": "execute_result"
    }
   ],
   "source": [
    "events_df"
   ]
  },
  {
   "cell_type": "code",
   "execution_count": 4,
   "metadata": {
    "execution": {
     "iopub.execute_input": "2022-07-05T15:18:13.878254Z",
     "iopub.status.busy": "2022-07-05T15:18:13.877842Z",
     "iopub.status.idle": "2022-07-05T15:18:15.338001Z",
     "shell.execute_reply": "2022-07-05T15:18:15.337273Z"
    }
   },
   "outputs": [
    {
     "data": {
      "text/plain": [
       "<AxesSubplot:>"
      ]
     },
     "execution_count": 4,
     "metadata": {},
     "output_type": "execute_result"
    },
    {
     "data": {
      "image/png": "[encoded data removed]",
      "text/plain": [
       "<Figure size 432x288 with 1 Axes>"
      ]
     },
     "metadata": {
      "needs_background": "light"
     },
     "output_type": "display_data"
    }
   ],
   "source": [
    "events_df['date'].sort_values().reset_index(drop=True).plot()"
   ]
  }
 ],
 "metadata": {
  "kernelspec": {
   "display_name": "Python 3",
   "language": "python",
   "name": "orchest-kernel-085b9595-234b-4e55-9637-5217b5e5e5b0"
  },
  "language_info": {
   "codemirror_mode": {
    "name": "ipython",
    "version": 3
   },
   "file_extension": ".py",
   "mimetype": "text/x-python",
   "name": "python",
   "nbconvert_exporter": "python",
   "pygments_lexer": "ipython3",
   "version": "3.9.10"
  }
 },
 "nbformat": 4,
 "nbformat_minor": 4
}
