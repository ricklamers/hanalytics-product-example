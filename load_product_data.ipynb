{
 "cells": [
  {
   "cell_type": "code",
   "execution_count": 42,
   "metadata": {},
   "outputs": [],
   "source": [
    "import random\n",
    "\n",
    "import pandas as pd\n",
    "import numpy as np\n",
    "import orchest\n",
    "\n",
    "import matplotlib.pyplot as plt"
   ]
  },
  {
   "cell_type": "code",
   "execution_count": 10,
   "metadata": {},
   "outputs": [],
   "source": [
    "# Generate some dummy data\n",
    "\n",
    "products = list(map(lambda x: \"Product \" + str(chr(65+x)), list(range(10))))"
   ]
  },
  {
   "cell_type": "code",
   "execution_count": 11,
   "metadata": {},
   "outputs": [
    {
     "data": {
      "text/plain": [
       "['Product A',\n",
       " 'Product B',\n",
       " 'Product C',\n",
       " 'Product D',\n",
       " 'Product E',\n",
       " 'Product F',\n",
       " 'Product G',\n",
       " 'Product H',\n",
       " 'Product I',\n",
       " 'Product J']"
      ]
     },
     "execution_count": 11,
     "metadata": {},
     "output_type": "execute_result"
    }
   ],
   "source": [
    "products"
   ]
  },
  {
   "cell_type": "code",
   "execution_count": 15,
   "metadata": {},
   "outputs": [],
   "source": [
    "# Product interactions\n",
    "click_probability_distributions = np.array(list(map(lambda x: random.random(), range(len(products)))))\n",
    "click_probability_distributions = click_probability_distributions / click_probability_distributions.sum()"
   ]
  },
  {
   "cell_type": "code",
   "execution_count": 18,
   "metadata": {},
   "outputs": [
    {
     "data": {
      "text/plain": [
       "[<matplotlib.lines.Line2D at 0x7f8df2ad7280>]"
      ]
     },
     "execution_count": 18,
     "metadata": {},
     "output_type": "execute_result"
    },
    {
     "data": {
      "image/png": "[encoded data removed]",
      "text/plain": [
       "<Figure size 432x288 with 1 Axes>"
      ]
     },
     "metadata": {
      "needs_background": "light"
     },
     "output_type": "display_data"
    }
   ],
   "source": [
    "plt.plot(click_probability_distributions)"
   ]
  },
  {
   "cell_type": "code",
   "execution_count": 25,
   "metadata": {},
   "outputs": [],
   "source": [
    "# Generate events\n",
    "event_count = 2000"
   ]
  },
  {
   "cell_type": "code",
   "execution_count": 28,
   "metadata": {},
   "outputs": [],
   "source": [
    "def random_dates(start, end, n=10):\n",
    "\n",
    "    start_u = start.value//10**9\n",
    "    end_u = end.value//10**9\n",
    "\n",
    "    return pd.to_datetime(np.random.randint(start_u, end_u, n), unit='s')"
   ]
  },
  {
   "cell_type": "code",
   "execution_count": 29,
   "metadata": {},
   "outputs": [
    {
     "data": {
      "text/plain": [
       "DatetimeIndex(['2020-04-11 13:14:04', '2020-02-08 15:32:23',\n",
       "               '2021-11-16 16:48:23', '2021-08-14 10:26:38',\n",
       "               '2021-09-27 21:08:45', '2021-03-12 07:33:13',\n",
       "               '2020-08-06 01:36:00', '2021-05-28 09:44:14',\n",
       "               '2020-05-04 18:49:02', '2020-08-20 04:34:26',\n",
       "               ...\n",
       "               '2021-09-13 21:49:36', '2020-10-20 10:47:51',\n",
       "               '2020-03-17 14:10:30', '2020-11-03 04:58:16',\n",
       "               '2020-04-22 14:59:46', '2021-04-01 21:41:23',\n",
       "               '2021-03-16 13:46:29', '2021-09-22 05:17:41',\n",
       "               '2020-02-07 07:37:41', '2020-02-14 14:31:24'],\n",
       "              dtype='datetime64[ns]', length=2000, freq=None)"
      ]
     },
     "execution_count": 29,
     "metadata": {},
     "output_type": "execute_result"
    }
   ],
   "source": [
    "start = pd.to_datetime('2020-1-01')\n",
    "end = pd.to_datetime('2022-01-01')"
   ]
  },
  {
   "cell_type": "code",
   "execution_count": 38,
   "metadata": {},
   "outputs": [],
   "source": [
    "product_choices = np.random.choice(products, event_count, p=click_probability_distributions)\n",
    "dates = random_dates(start, end, event_count)\n",
    "actions = [\"buy\"] * event_count"
   ]
  },
  {
   "cell_type": "code",
   "execution_count": 39,
   "metadata": {},
   "outputs": [],
   "source": [
    "df = pd.DataFrame(zip(product_choices, dates, actions), columns=['product', 'date', 'action'])"
   ]
  },
  {
   "cell_type": "code",
   "execution_count": 40,
   "metadata": {},
   "outputs": [
    {
     "data": {
      "text/html": [
       "<div>\n",
       "<style scoped>\n",
       "    .dataframe tbody tr th:only-of-type {\n",
       "        vertical-align: middle;\n",
       "    }\n",
       "\n",
       "    .dataframe tbody tr th {\n",
       "        vertical-align: top;\n",
       "    }\n",
       "\n",
       "    .dataframe thead th {\n",
       "        text-align: right;\n",
       "    }\n",
       "</style>\n",
       "<table border=\"1\" class=\"dataframe\">\n",
       "  <thead>\n",
       "    <tr style=\"text-align: right;\">\n",
       "      <th></th>\n",
       "      <th>product</th>\n",
       "      <th>date</th>\n",
       "      <th>action</th>\n",
       "    </tr>\n",
       "  </thead>\n",
       "  <tbody>\n",
       "    <tr>\n",
       "      <th>0</th>\n",
       "      <td>Product J</td>\n",
       "      <td>2020-08-19 21:40:53</td>\n",
       "      <td>buy</td>\n",
       "    </tr>\n",
       "    <tr>\n",
       "      <th>1</th>\n",
       "      <td>Product A</td>\n",
       "      <td>2020-07-27 02:44:48</td>\n",
       "      <td>buy</td>\n",
       "    </tr>\n",
       "    <tr>\n",
       "      <th>2</th>\n",
       "      <td>Product J</td>\n",
       "      <td>2021-04-30 21:27:16</td>\n",
       "      <td>buy</td>\n",
       "    </tr>\n",
       "    <tr>\n",
       "      <th>3</th>\n",
       "      <td>Product E</td>\n",
       "      <td>2020-10-10 05:49:50</td>\n",
       "      <td>buy</td>\n",
       "    </tr>\n",
       "    <tr>\n",
       "      <th>4</th>\n",
       "      <td>Product J</td>\n",
       "      <td>2020-06-21 23:15:34</td>\n",
       "      <td>buy</td>\n",
       "    </tr>\n",
       "    <tr>\n",
       "      <th>...</th>\n",
       "      <td>...</td>\n",
       "      <td>...</td>\n",
       "      <td>...</td>\n",
       "    </tr>\n",
       "    <tr>\n",
       "      <th>1995</th>\n",
       "      <td>Product E</td>\n",
       "      <td>2020-11-02 03:45:50</td>\n",
       "      <td>buy</td>\n",
       "    </tr>\n",
       "    <tr>\n",
       "      <th>1996</th>\n",
       "      <td>Product B</td>\n",
       "      <td>2020-02-24 18:06:56</td>\n",
       "      <td>buy</td>\n",
       "    </tr>\n",
       "    <tr>\n",
       "      <th>1997</th>\n",
       "      <td>Product F</td>\n",
       "      <td>2021-04-15 14:57:58</td>\n",
       "      <td>buy</td>\n",
       "    </tr>\n",
       "    <tr>\n",
       "      <th>1998</th>\n",
       "      <td>Product C</td>\n",
       "      <td>2020-08-11 11:08:22</td>\n",
       "      <td>buy</td>\n",
       "    </tr>\n",
       "    <tr>\n",
       "      <th>1999</th>\n",
       "      <td>Product A</td>\n",
       "      <td>2020-01-09 04:03:08</td>\n",
       "      <td>buy</td>\n",
       "    </tr>\n",
       "  </tbody>\n",
       "</table>\n",
       "<p>2000 rows × 3 columns</p>\n",
       "</div>"
      ],
      "text/plain": [
       "        product                date action\n",
       "0     Product J 2020-08-19 21:40:53    buy\n",
       "1     Product A 2020-07-27 02:44:48    buy\n",
       "2     Product J 2021-04-30 21:27:16    buy\n",
       "3     Product E 2020-10-10 05:49:50    buy\n",
       "4     Product J 2020-06-21 23:15:34    buy\n",
       "...         ...                 ...    ...\n",
       "1995  Product E 2020-11-02 03:45:50    buy\n",
       "1996  Product B 2020-02-24 18:06:56    buy\n",
       "1997  Product F 2021-04-15 14:57:58    buy\n",
       "1998  Product C 2020-08-11 11:08:22    buy\n",
       "1999  Product A 2020-01-09 04:03:08    buy\n",
       "\n",
       "[2000 rows x 3 columns]"
      ]
     },
     "execution_count": 40,
     "metadata": {},
     "output_type": "execute_result"
    }
   ],
   "source": [
    "df"
   ]
  },
  {
   "cell_type": "code",
   "execution_count": 43,
   "metadata": {},
   "outputs": [],
   "source": [
    "orchest.output({\"events\": df, \"products\": products}, name=\"product_data\")"
   ]
  }
 ],
 "metadata": {
  "kernelspec": {
   "display_name": "Python 3",
   "language": "python",
   "name": "orchest-kernel-085b9595-234b-4e55-9637-5217b5e5e5b0"
  },
  "language_info": {
   "codemirror_mode": {
    "name": "ipython",
    "version": 3
   },
   "file_extension": ".py",
   "mimetype": "text/x-python",
   "name": "python",
   "nbconvert_exporter": "python",
   "pygments_lexer": "ipython3",
   "version": "3.9.10"
  }
 },
 "nbformat": 4,
 "nbformat_minor": 4
}
