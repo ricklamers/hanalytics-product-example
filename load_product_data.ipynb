{
 "cells": [
  {
   "cell_type": "code",
   "execution_count": 1,
   "metadata": {
    "execution": {
     "iopub.execute_input": "2022-07-05T15:18:42.379543Z",
     "iopub.status.busy": "2022-07-05T15:18:42.379095Z",
     "iopub.status.idle": "2022-07-05T15:18:42.400884Z",
     "shell.execute_reply": "2022-07-05T15:18:42.400029Z"
    }
   },
   "outputs": [],
   "source": [
    "%load_ext autoreload\n",
    "%autoreload 2"
   ]
  },
  {
   "cell_type": "code",
   "execution_count": 2,
   "metadata": {
    "execution": {
     "iopub.execute_input": "2022-07-05T15:18:42.416435Z",
     "iopub.status.busy": "2022-07-05T15:18:42.415832Z",
     "iopub.status.idle": "2022-07-05T15:18:43.985603Z",
     "shell.execute_reply": "2022-07-05T15:18:43.984769Z"
    }
   },
   "outputs": [],
   "source": [
    "import random\n",
    "\n",
    "import pandas as pd\n",
    "import numpy as np\n",
    "import orchest\n",
    "\n",
    "import matplotlib.pyplot as plt"
   ]
  },
  {
   "cell_type": "code",
   "execution_count": 3,
   "metadata": {
    "execution": {
     "iopub.execute_input": "2022-07-05T15:18:44.008621Z",
     "iopub.status.busy": "2022-07-05T15:18:44.007461Z",
     "iopub.status.idle": "2022-07-05T15:18:44.032566Z",
     "shell.execute_reply": "2022-07-05T15:18:44.031997Z"
    }
   },
   "outputs": [],
   "source": [
    "from utils import random_dates"
   ]
  },
  {
   "cell_type": "code",
   "execution_count": 4,
   "metadata": {
    "execution": {
     "iopub.execute_input": "2022-07-05T15:18:44.049769Z",
     "iopub.status.busy": "2022-07-05T15:18:44.049141Z",
     "iopub.status.idle": "2022-07-05T15:18:44.068132Z",
     "shell.execute_reply": "2022-07-05T15:18:44.067376Z"
    }
   },
   "outputs": [],
   "source": [
    "# Generate some dummy data\n",
    "\n",
    "products = list(map(lambda x: \"Product \" + str(chr(65+x)), list(range(10))))"
   ]
  },
  {
   "cell_type": "code",
   "execution_count": 5,
   "metadata": {
    "execution": {
     "iopub.execute_input": "2022-07-05T15:18:44.083826Z",
     "iopub.status.busy": "2022-07-05T15:18:44.083194Z",
     "iopub.status.idle": "2022-07-05T15:18:44.103965Z",
     "shell.execute_reply": "2022-07-05T15:18:44.103456Z"
    }
   },
   "outputs": [
    {
     "data": {
      "text/plain": [
       "['Product A',\n",
       " 'Product B',\n",
       " 'Product C',\n",
       " 'Product D',\n",
       " 'Product E',\n",
       " 'Product F',\n",
       " 'Product G',\n",
       " 'Product H',\n",
       " 'Product I',\n",
       " 'Product J']"
      ]
     },
     "execution_count": 5,
     "metadata": {},
     "output_type": "execute_result"
    }
   ],
   "source": [
    "products"
   ]
  },
  {
   "cell_type": "code",
   "execution_count": 6,
   "metadata": {
    "execution": {
     "iopub.execute_input": "2022-07-05T15:18:44.122935Z",
     "iopub.status.busy": "2022-07-05T15:18:44.122449Z",
     "iopub.status.idle": "2022-07-05T15:18:44.141032Z",
     "shell.execute_reply": "2022-07-05T15:18:44.140208Z"
    }
   },
   "outputs": [],
   "source": [
    "# Product interactions\n",
    "click_probability_distributions = np.array(list(map(lambda x: random.random(), range(len(products)))))\n",
    "click_probability_distributions = click_probability_distributions / click_probability_distributions.sum()"
   ]
  },
  {
   "cell_type": "code",
   "execution_count": 7,
   "metadata": {
    "execution": {
     "iopub.execute_input": "2022-07-05T15:18:44.156256Z",
     "iopub.status.busy": "2022-07-05T15:18:44.155664Z",
     "iopub.status.idle": "2022-07-05T15:18:44.307091Z",
     "shell.execute_reply": "2022-07-05T15:18:44.306468Z"
    }
   },
   "outputs": [
    {
     "data": {
      "text/plain": [
       "[<matplotlib.lines.Line2D at 0x7fc944f17880>]"
      ]
     },
     "execution_count": 7,
     "metadata": {},
     "output_type": "execute_result"
    },
    {
     "data": {
      "image/png": "[encoded data removed]",
      "text/plain": [
       "<Figure size 432x288 with 1 Axes>"
      ]
     },
     "metadata": {
      "needs_background": "light"
     },
     "output_type": "display_data"
    }
   ],
   "source": [
    "plt.plot(click_probability_distributions)"
   ]
  },
  {
   "cell_type": "code",
   "execution_count": 8,
   "metadata": {
    "execution": {
     "iopub.execute_input": "2022-07-05T15:18:44.325265Z",
     "iopub.status.busy": "2022-07-05T15:18:44.324031Z",
     "iopub.status.idle": "2022-07-05T15:18:44.343985Z",
     "shell.execute_reply": "2022-07-05T15:18:44.343343Z"
    }
   },
   "outputs": [],
   "source": [
    "# Generate events\n",
    "buy_count = 2000\n",
    "view_count = 10000"
   ]
  },
  {
   "cell_type": "code",
   "execution_count": 9,
   "metadata": {
    "execution": {
     "iopub.execute_input": "2022-07-05T15:18:44.360269Z",
     "iopub.status.busy": "2022-07-05T15:18:44.359884Z",
     "iopub.status.idle": "2022-07-05T15:18:44.380494Z",
     "shell.execute_reply": "2022-07-05T15:18:44.379805Z"
    }
   },
   "outputs": [],
   "source": [
    "start = pd.to_datetime('2020-1-01')\n",
    "end = pd.to_datetime('2022-01-01')"
   ]
  },
  {
   "cell_type": "code",
   "execution_count": 10,
   "metadata": {
    "execution": {
     "iopub.execute_input": "2022-07-05T15:18:44.395697Z",
     "iopub.status.busy": "2022-07-05T15:18:44.395119Z",
     "iopub.status.idle": "2022-07-05T15:18:44.414612Z",
     "shell.execute_reply": "2022-07-05T15:18:44.413985Z"
    }
   },
   "outputs": [],
   "source": [
    "def generate_events(event, start, end, count):\n",
    "    product_choices = np.random.choice(products, count, p=click_probability_distributions)\n",
    "    dates = random_dates(start, end, count)\n",
    "    actions = [event] * count\n",
    "    \n",
    "    return product_choices, dates, actions"
   ]
  },
  {
   "cell_type": "code",
   "execution_count": 11,
   "metadata": {
    "execution": {
     "iopub.execute_input": "2022-07-05T15:18:44.429326Z",
     "iopub.status.busy": "2022-07-05T15:18:44.429085Z",
     "iopub.status.idle": "2022-07-05T15:18:44.450398Z",
     "shell.execute_reply": "2022-07-05T15:18:44.449672Z"
    }
   },
   "outputs": [],
   "source": [
    "product_choices, dates, actions = generate_events(\"buy\", start, end, buy_count)"
   ]
  },
  {
   "cell_type": "code",
   "execution_count": 12,
   "metadata": {
    "execution": {
     "iopub.execute_input": "2022-07-05T15:18:44.465942Z",
     "iopub.status.busy": "2022-07-05T15:18:44.465573Z",
     "iopub.status.idle": "2022-07-05T15:18:44.491000Z",
     "shell.execute_reply": "2022-07-05T15:18:44.490276Z"
    }
   },
   "outputs": [],
   "source": [
    "df_buy = pd.DataFrame(zip(product_choices, dates, actions), columns=['product', 'date', 'action'])"
   ]
  },
  {
   "cell_type": "code",
   "execution_count": 13,
   "metadata": {
    "execution": {
     "iopub.execute_input": "2022-07-05T15:18:44.507687Z",
     "iopub.status.busy": "2022-07-05T15:18:44.507194Z",
     "iopub.status.idle": "2022-07-05T15:18:44.527212Z",
     "shell.execute_reply": "2022-07-05T15:18:44.526475Z"
    }
   },
   "outputs": [],
   "source": [
    "product_choices, dates, actions = generate_events(\"view\", start, end, view_count)"
   ]
  },
  {
   "cell_type": "code",
   "execution_count": 14,
   "metadata": {
    "execution": {
     "iopub.execute_input": "2022-07-05T15:18:44.543183Z",
     "iopub.status.busy": "2022-07-05T15:18:44.542593Z",
     "iopub.status.idle": "2022-07-05T15:18:44.664078Z",
     "shell.execute_reply": "2022-07-05T15:18:44.663395Z"
    }
   },
   "outputs": [],
   "source": [
    "df_view = pd.DataFrame(zip(product_choices, dates, actions), columns=['product', 'date', 'action'])"
   ]
  },
  {
   "cell_type": "code",
   "execution_count": 15,
   "metadata": {
    "execution": {
     "iopub.execute_input": "2022-07-05T15:18:44.679570Z",
     "iopub.status.busy": "2022-07-05T15:18:44.679046Z",
     "iopub.status.idle": "2022-07-05T15:18:44.701496Z",
     "shell.execute_reply": "2022-07-05T15:18:44.700742Z"
    }
   },
   "outputs": [],
   "source": [
    "df = pd.concat([df_buy, df_view]).reset_index(drop=True)"
   ]
  },
  {
   "cell_type": "code",
   "execution_count": 16,
   "metadata": {
    "execution": {
     "iopub.execute_input": "2022-07-05T15:18:44.717140Z",
     "iopub.status.busy": "2022-07-05T15:18:44.716900Z",
     "iopub.status.idle": "2022-07-05T15:18:44.745218Z",
     "shell.execute_reply": "2022-07-05T15:18:44.742752Z"
    }
   },
   "outputs": [
    {
     "data": {
      "text/html": [
       "<div>\n",
       "<style scoped>\n",
       "    .dataframe tbody tr th:only-of-type {\n",
       "        vertical-align: middle;\n",
       "    }\n",
       "\n",
       "    .dataframe tbody tr th {\n",
       "        vertical-align: top;\n",
       "    }\n",
       "\n",
       "    .dataframe thead th {\n",
       "        text-align: right;\n",
       "    }\n",
       "</style>\n",
       "<table border=\"1\" class=\"dataframe\">\n",
       "  <thead>\n",
       "    <tr style=\"text-align: right;\">\n",
       "      <th></th>\n",
       "      <th>product</th>\n",
       "      <th>date</th>\n",
       "      <th>action</th>\n",
       "    </tr>\n",
       "  </thead>\n",
       "  <tbody>\n",
       "    <tr>\n",
       "      <th>0</th>\n",
       "      <td>Product C</td>\n",
       "      <td>2020-08-29 10:20:16</td>\n",
       "      <td>buy</td>\n",
       "    </tr>\n",
       "    <tr>\n",
       "      <th>1</th>\n",
       "      <td>Product G</td>\n",
       "      <td>2021-04-19 17:33:37</td>\n",
       "      <td>buy</td>\n",
       "    </tr>\n",
       "    <tr>\n",
       "      <th>2</th>\n",
       "      <td>Product G</td>\n",
       "      <td>2021-05-06 03:10:59</td>\n",
       "      <td>buy</td>\n",
       "    </tr>\n",
       "    <tr>\n",
       "      <th>3</th>\n",
       "      <td>Product B</td>\n",
       "      <td>2020-12-24 21:41:40</td>\n",
       "      <td>buy</td>\n",
       "    </tr>\n",
       "    <tr>\n",
       "      <th>4</th>\n",
       "      <td>Product C</td>\n",
       "      <td>2021-10-03 01:11:59</td>\n",
       "      <td>buy</td>\n",
       "    </tr>\n",
       "    <tr>\n",
       "      <th>...</th>\n",
       "      <td>...</td>\n",
       "      <td>...</td>\n",
       "      <td>...</td>\n",
       "    </tr>\n",
       "    <tr>\n",
       "      <th>11995</th>\n",
       "      <td>Product C</td>\n",
       "      <td>2020-04-03 21:16:10</td>\n",
       "      <td>view</td>\n",
       "    </tr>\n",
       "    <tr>\n",
       "      <th>11996</th>\n",
       "      <td>Product F</td>\n",
       "      <td>2021-02-04 09:18:42</td>\n",
       "      <td>view</td>\n",
       "    </tr>\n",
       "    <tr>\n",
       "      <th>11997</th>\n",
       "      <td>Product A</td>\n",
       "      <td>2021-03-03 08:05:58</td>\n",
       "      <td>view</td>\n",
       "    </tr>\n",
       "    <tr>\n",
       "      <th>11998</th>\n",
       "      <td>Product A</td>\n",
       "      <td>2020-10-18 00:27:51</td>\n",
       "      <td>view</td>\n",
       "    </tr>\n",
       "    <tr>\n",
       "      <th>11999</th>\n",
       "      <td>Product J</td>\n",
       "      <td>2020-06-06 00:04:06</td>\n",
       "      <td>view</td>\n",
       "    </tr>\n",
       "  </tbody>\n",
       "</table>\n",
       "<p>12000 rows × 3 columns</p>\n",
       "</div>"
      ],
      "text/plain": [
       "         product                date action\n",
       "0      Product C 2020-08-29 10:20:16    buy\n",
       "1      Product G 2021-04-19 17:33:37    buy\n",
       "2      Product G 2021-05-06 03:10:59    buy\n",
       "3      Product B 2020-12-24 21:41:40    buy\n",
       "4      Product C 2021-10-03 01:11:59    buy\n",
       "...          ...                 ...    ...\n",
       "11995  Product C 2020-04-03 21:16:10   view\n",
       "11996  Product F 2021-02-04 09:18:42   view\n",
       "11997  Product A 2021-03-03 08:05:58   view\n",
       "11998  Product A 2020-10-18 00:27:51   view\n",
       "11999  Product J 2020-06-06 00:04:06   view\n",
       "\n",
       "[12000 rows x 3 columns]"
      ]
     },
     "execution_count": 16,
     "metadata": {},
     "output_type": "execute_result"
    }
   ],
   "source": [
    "df"
   ]
  },
  {
   "cell_type": "code",
   "execution_count": 17,
   "metadata": {
    "execution": {
     "iopub.execute_input": "2022-07-05T15:18:44.760886Z",
     "iopub.status.busy": "2022-07-05T15:18:44.760424Z",
     "iopub.status.idle": "2022-07-05T15:18:44.846596Z",
     "shell.execute_reply": "2022-07-05T15:18:44.845885Z"
    }
   },
   "outputs": [],
   "source": [
    "orchest.output({\"events\": df, \"products\": products}, name=\"product_data\")"
   ]
  }
 ],
 "metadata": {
  "kernelspec": {
   "display_name": "Python 3",
   "language": "python",
   "name": "orchest-kernel-085b9595-234b-4e55-9637-5217b5e5e5b0"
  },
  "language_info": {
   "codemirror_mode": {
    "name": "ipython",
    "version": 3
   },
   "file_extension": ".py",
   "mimetype": "text/x-python",
   "name": "python",
   "nbconvert_exporter": "python",
   "pygments_lexer": "ipython3",
   "version": "3.9.10"
  }
 },
 "nbformat": 4,
 "nbformat_minor": 4
}
